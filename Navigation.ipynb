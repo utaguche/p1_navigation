{
 "cells": [
  {
   "cell_type": "markdown",
   "id": "6e068dcc",
   "metadata": {},
   "source": [
    "# Navigation\n",
    "\n",
    "---\n",
    "\n",
    "In this notebook, we will learn how to use the Unity ML-Agents environment for the first project of the [Deep Reinforcement Learning Nanodegree](https://www.udacity.com/course/deep-reinforcement-learning-nanodegree--nd893).\n",
    "\n",
    "### 1. Start the Environment and Agent\n",
    "\n",
    "We begin by importing some necessary packages.  If the code cell below returns an error, please revisit the project instructions to double-check that you have installed [Unity ML-Agents](https://github.com/Unity-Technologies/ml-agents/blob/master/docs/Installation.md) and [NumPy](http://www.numpy.org/)."
   ]
  },
  {
   "cell_type": "code",
   "execution_count": 1,
   "id": "763ade6f",
   "metadata": {},
   "outputs": [],
   "source": [
    "from unityagents import UnityEnvironment\n",
    "import numpy as np\n",
    "import random\n",
    "import torch\n",
    "from collections import deque\n",
    "import matplotlib.pyplot as plt\n",
    "%matplotlib inline\n",
    "\n",
    "# Import the agent. See agent.py in detail.\n",
    "from agent import Agent"
   ]
  },
  {
   "cell_type": "markdown",
   "id": "ced08e5a",
   "metadata": {},
   "source": [
    "Next, we will start the environment!  **_Before running the code cell below_**, change the `file_name` parameter to match the location of the Unity environment that you downloaded.\n",
    "\n",
    "- **Mac**: `\"path/to/Banana.app\"`\n",
    "- **Windows** (x86): `\"path/to/Banana_Windows_x86/Banana.exe\"`\n",
    "- **Windows** (x86_64): `\"path/to/Banana_Windows_x86_64/Banana.exe\"`\n",
    "- **Linux** (x86): `\"path/to/Banana_Linux/Banana.x86\"`\n",
    "- **Linux** (x86_64): `\"path/to/Banana_Linux/Banana.x86_64\"`\n",
    "- **Linux** (x86, headless): `\"path/to/Banana_Linux_NoVis/Banana.x86\"`\n",
    "- **Linux** (x86_64, headless): `\"path/to/Banana_Linux_NoVis/Banana.x86_64\"`\n",
    "\n",
    "For instance, if you are using a Mac, then you downloaded `Banana.app`.  If this file is in the same folder as the notebook, then the line below should appear as follows:\n",
    "```\n",
    "env = UnityEnvironment(file_name=\"Banana.app\")\n",
    "```"
   ]
  },
  {
   "cell_type": "code",
   "execution_count": 2,
   "id": "9b72f589",
   "metadata": {},
   "outputs": [
    {
     "name": "stderr",
     "output_type": "stream",
     "text": [
      "INFO:unityagents:\n",
      "'Academy' started successfully!\n",
      "Unity Academy name: Academy\n",
      "        Number of Brains: 1\n",
      "        Number of External Brains : 1\n",
      "        Lesson number : 0\n",
      "        Reset Parameters :\n",
      "\t\t\n",
      "Unity brain name: BananaBrain\n",
      "        Number of Visual Observations (per agent): 0\n",
      "        Vector Observation space type: continuous\n",
      "        Vector Observation space size (per agent): 37\n",
      "        Number of stacked Vector Observation: 1\n",
      "        Vector Action space type: discrete\n",
      "        Vector Action space size (per agent): 4\n",
      "        Vector Action descriptions: , , , \n"
     ]
    }
   ],
   "source": [
    "env = UnityEnvironment(file_name=\"Banana.app\")"
   ]
  },
  {
   "cell_type": "markdown",
   "id": "1a08d3b3",
   "metadata": {},
   "source": [
    "Environments contain **_brains_** which are responsible for deciding the actions of their associated agents. Here we check for the first brain available, and set it as the default brain we will be controlling from Python."
   ]
  },
  {
   "cell_type": "code",
   "execution_count": 3,
   "id": "41ba329a",
   "metadata": {},
   "outputs": [],
   "source": [
    "# get the default brain\n",
    "brain_name = env.brain_names[0]\n",
    "brain = env.brains[brain_name]"
   ]
  },
  {
   "cell_type": "markdown",
   "id": "4f6fc297",
   "metadata": {},
   "source": [
    "### 2. Examine the State and Action Spaces\n",
    "\n",
    "The simulation contains a single agent that navigates a large environment.  At each time step, it has four actions at its disposal:\n",
    "- `0` - walk forward \n",
    "- `1` - walk backward\n",
    "- `2` - turn left\n",
    "- `3` - turn right\n",
    "\n",
    "The state space has `37` dimensions and contains the agent's velocity, along with ray-based perception of objects around agent's forward direction.  A reward of `+1` is provided for collecting a yellow banana, and a reward of `-1` is provided for collecting a blue banana. \n",
    "\n",
    "Run the code cell below to print some information about the environment."
   ]
  },
  {
   "cell_type": "code",
   "execution_count": 4,
   "id": "9924a569",
   "metadata": {},
   "outputs": [
    {
     "name": "stdout",
     "output_type": "stream",
     "text": [
      "Number of agents: 1\n",
      "Number of actions: 4\n",
      "States look like: [1.         0.         0.         0.         0.84408134 0.\n",
      " 0.         1.         0.         0.0748472  0.         1.\n",
      " 0.         0.         0.25755    1.         0.         0.\n",
      " 0.         0.74177343 0.         1.         0.         0.\n",
      " 0.25854847 0.         0.         1.         0.         0.09355672\n",
      " 0.         1.         0.         0.         0.31969345 0.\n",
      " 0.        ]\n",
      "States have length: 37\n"
     ]
    }
   ],
   "source": [
    "# reset the environment\n",
    "env_info = env.reset(train_mode=True)[brain_name]\n",
    "\n",
    "# number of agents in the environment\n",
    "print('Number of agents:', len(env_info.agents))\n",
    "\n",
    "# number of actions\n",
    "action_size = brain.vector_action_space_size\n",
    "print('Number of actions:', action_size)\n",
    "\n",
    "# examine the state space \n",
    "state = env_info.vector_observations[0]\n",
    "print('States look like:', state)\n",
    "state_size = len(state)\n",
    "print('States have length:', state_size)"
   ]
  },
  {
   "cell_type": "markdown",
   "id": "ccbb8db8",
   "metadata": {},
   "source": [
    "### 3. It's time to train!\n",
    "\n",
    "Now it's time to train our own agent to solve the environment!  When training the environment, set `train_mode=True`, so that the line for resetting the environment looks like the following:\n",
    "```python\n",
    "env_info = env.reset(train_mode=True)[brain_name]\n",
    "```\n",
    "\n",
    "Recall that in our task, in order to solve the environment, our agent must end up with an average score of +13 over 100 consecutive episodes. So we need to introduce a list to accommodate the average score.\n",
    "\n",
    "Finally, we plot the raw data for scores and also the average score for a good visualization of the progress."
   ]
  },
  {
   "cell_type": "code",
   "execution_count": 5,
   "id": "b1e517a1",
   "metadata": {},
   "outputs": [],
   "source": [
    "# Define the deep Q-learning function as in tutorials\n",
    "\n",
    "def dqn(n_episodes=2000, max_t=1000, eps_start=1.0, eps_end=0.01, eps_decay=0.995, train_mode=True, checkpointpt='checkpoint.pth'):\n",
    "    \"\"\" Deep Q-Learning.\n",
    "    \n",
    "    Params\n",
    "    ----------\n",
    "        n_episodes (int): maximum number of training episodes\n",
    "        max_t (int): maximum number of timesteps per episode\n",
    "        eps_start (float): starting value of epsilon, for epsilon-greedy action selection\n",
    "        eps_end (float): minimum value of epsilon\n",
    "        eps_decay (float): multiplicative factor (per episode) for decreasing epsilon\n",
    "        train_mode (bool): whether train mode is on (True) or off (False)\n",
    "    -------\n",
    "    \"\"\"\n",
    "    # monitor performance\n",
    "    avg_scores = []   # a list to contain avg scores over 100 consecutive episodes\n",
    "    scores = []                        # list containing scores from each episode\n",
    "    scores_window = deque(maxlen=100)  # a temporary list of last 100 scores\n",
    "    eps = eps_start                    # initialize epsilon\n",
    "    for i_episode in range(1, n_episodes+1):\n",
    "        env_info = env.reset(train_mode=train_mode)[brain_name] # reset the env (see the above paragraph)\n",
    "        state = env_info.vector_observations[0] # extract the current state\n",
    "        score = 0\n",
    "        for t in range(max_t):\n",
    "            action = agent.act(state, eps)   # select an action using eps\n",
    "            env_info = env.step(action)[brain_name]   # send the action to env\n",
    "            next_state = env_info.vector_observations[0]   # get the next state\n",
    "            reward = env_info.rewards[0]   # get the reward\n",
    "            done = env_info.local_done[0]  # see if episode ended\n",
    "            agent.step(state, action, reward, next_state, done) # input S, A, R, S' for the agent to learn\n",
    "            state = next_state # S <- S'\n",
    "            score += reward # accumulate the score\n",
    "            if done:\n",
    "                break\n",
    "        scores_window.append(score)   # save most recent score\n",
    "        scores.append(score)     # save most recent score in the whole history\n",
    "        avg_score = np.mean(scores_window) # calculate an average (=moving average)\n",
    "        avg_scores.append(avg_score) # save the moving average \n",
    "        eps = max(eps_end, eps_decay*eps) # multiply epsilon by decay rate\n",
    "        print('\\rEpisode {}\\tAverage Score: {:.2f}'.format(i_episode,  avg_score), end=\"\")\n",
    "        if i_episode % 100 == 0: # average per 100 episodes\n",
    "            print('\\rEpisode {}\\tAverage Score: {:.2f}'.format(i_episode, avg_score))\n",
    "        if np.mean(scores_window)>= 13.0: # our task!\n",
    "            print('\\nEnvironment solved in {:d} episodes!\\tAverage Score: {:.2f}'.format(i_episode-100, avg_score))\n",
    "            # save the trained model before closing\n",
    "            if train_mode:\n",
    "                torch.save(agent.qnetwork_local.state_dict(), checkpointpt)\n",
    "            break\n",
    "    return scores, avg_scores "
   ]
  },
  {
   "cell_type": "code",
   "execution_count": 7,
   "id": "59b8fa51",
   "metadata": {},
   "outputs": [
    {
     "name": "stdout",
     "output_type": "stream",
     "text": [
      "Episode 100\tAverage Score: 2.58\n",
      "Episode 200\tAverage Score: 8.65\n",
      "Episode 300\tAverage Score: 11.98\n",
      "Episode 365\tAverage Score: 13.00\n",
      "Environment solved in 265 episodes!\tAverage Score: 13.00\n"
     ]
    }
   ],
   "source": [
    "# define the agent\n",
    "agent = Agent(state_size=state_size, action_size=action_size, seed=0, double_mode=False, dueling_mode=False)\n",
    "# start the training!\n",
    "scores, avg_scores = dqn(n_episodes=500, eps_decay=0.986, eps_end=0.02, checkpointpt='checkpoint.pth')"
   ]
  },
  {
   "cell_type": "code",
   "execution_count": 8,
   "id": "3bd190e8",
   "metadata": {},
   "outputs": [
    {
     "data": {
      "image/png": "[encoded data removed]",
      "text/plain": [
       "<Figure size 432x288 with 1 Axes>"
      ]
     },
     "metadata": {
      "needs_background": "light"
     },
     "output_type": "display_data"
    }
   ],
   "source": [
    "# plot the scores\n",
    "fig = plt.figure()\n",
    "ax = fig.add_subplot(111)\n",
    "plt.plot(np.arange(len(scores)), scores, c='b', label='score')\n",
    "plt.plot(np.arange(len(avg_scores)), avg_scores, c='r', label='average')\n",
    "plt.ylabel('Score')\n",
    "plt.xlabel('Episode #')\n",
    "plt.legend()\n",
    "plt.show()"
   ]
  },
  {
   "cell_type": "markdown",
   "id": "6664b7b6",
   "metadata": {},
   "source": [
    "Raw score fluctuates but as you can see, we observe the gradual improvement of scores."
   ]
  },
  {
   "cell_type": "markdown",
   "id": "b2e8d9c1",
   "metadata": {},
   "source": [
    "### 4. Let us test the model!\n",
    "Now that we built the good model to satisfy the task, let us test its performance. Initializing the agent and loading the chekpoint file, we test the model in a small number of episodes below."
   ]
  },
  {
   "cell_type": "code",
   "execution_count": 9,
   "id": "39de151b",
   "metadata": {
    "scrolled": true
   },
   "outputs": [
    {
     "name": "stdout",
     "output_type": "stream",
     "text": [
      "Episode 1\tAverage Score: 14.00\n",
      "Episode 2\tAverage Score: 16.00\n",
      "Episode 3\tAverage Score: 15.00\n",
      "Episode 4\tAverage Score: 14.00\n",
      "Episode 5\tAverage Score: 15.00\n",
      "Episode 6\tAverage Score: 15.83\n",
      "Episode 7\tAverage Score: 16.00\n",
      "Episode 8\tAverage Score: 16.00\n",
      "Episode 9\tAverage Score: 15.44\n",
      "Episode 10\tAverage Score: 15.30\n"
     ]
    },
    {
     "data": {
      "image/png": "[encoded data removed]",
      "text/plain": [
       "<Figure size 432x288 with 1 Axes>"
      ]
     },
     "metadata": {
      "needs_background": "light"
     },
     "output_type": "display_data"
    }
   ],
   "source": [
    "# initialize the agent\n",
    "agent = Agent(state_size=state_size, action_size=action_size, seed=0)\n",
    "\n",
    "# load the saved model\n",
    "agent.qnetwork_local.load_state_dict(torch.load('checkpoint.pth'))\n",
    "\n",
    "num_episodes = 10\n",
    "scores = []\n",
    "for i_episode in range(1, num_episodes+1):\n",
    "    env_info = env.reset(train_mode=False)[brain_name] # turn off train mode\n",
    "    state = env_info.vector_observations[0] # get the current state\n",
    "    score = 0\n",
    "    while True:\n",
    "        action = agent.act(state, eps=0) # the agent chooses the action\n",
    "        env_info = env.step(action)[brain_name] # send the action to the environment\n",
    "        next_state = env_info.vector_observations[0] # get the next state\n",
    "        reward = env_info.rewards[0] # get the reward\n",
    "        done = env_info.local_done[0] # see if the episode ended\n",
    "        score += reward # update the score\n",
    "        state = next_state # S <- S'\n",
    "        if done:\n",
    "            scores.append(score)\n",
    "            print('\\rEpisode {}\\tAverage Score: {:.2f}'.format(i_episode, np.mean(scores)))\n",
    "            break\n",
    "\n",
    "# plot the scores\n",
    "fig = plt.figure()\n",
    "ax = fig.add_subplot(111)\n",
    "plt.plot(np.arange(len(scores)), scores, c='b', label='raw score')\n",
    "#plt.plot(np.arange(len(avg_scores)), avg_scores, c='r', label='average')\n",
    "plt.ylabel('Score')\n",
    "plt.xlabel('Episode #')\n",
    "plt.show() "
   ]
  },
  {
   "cell_type": "markdown",
   "id": "6e36fcf9",
   "metadata": {},
   "source": [
    "The overall evaluation is that the trained model led to nice scores."
   ]
  },
  {
   "cell_type": "markdown",
   "id": "cef30b13",
   "metadata": {},
   "source": [
    "### 5. Experimenting model buildings\n",
    "Below let us build a collection of models by tweaking a different set of hyperparameters."
   ]
  },
  {
   "cell_type": "markdown",
   "id": "abde678a",
   "metadata": {},
   "source": [
    "#### 5.1 turn on double_mode and dueling_mode"
   ]
  },
  {
   "cell_type": "code",
   "execution_count": 11,
   "id": "dabd1162",
   "metadata": {},
   "outputs": [
    {
     "name": "stdout",
     "output_type": "stream",
     "text": [
      "Episode 100\tAverage Score: -0.03\n",
      "Episode 200\tAverage Score: 3.551\n",
      "Episode 300\tAverage Score: 7.59\n",
      "Episode 400\tAverage Score: 11.43\n",
      "Episode 457\tAverage Score: 13.09\n",
      "Environment solved in 357 episodes!\tAverage Score: 13.09\n"
     ]
    },
    {
     "data": {
      "image/png": "[encoded data removed]",
      "text/plain": [
       "<Figure size 432x288 with 1 Axes>"
      ]
     },
     "metadata": {
      "needs_background": "light"
     },
     "output_type": "display_data"
    }
   ],
   "source": [
    "# define the agent\n",
    "agent = Agent(state_size=state_size, action_size=action_size, seed=0, double_mode=True, dueling_mode=True)\n",
    "# start the training!\n",
    "scores, avg_scores = dqn(n_episodes=500, eps_decay=0.986, eps_end=0.02, checkpointpt='checkpoint2.pth')\n",
    "\n",
    "# plot the scores\n",
    "fig = plt.figure()\n",
    "ax = fig.add_subplot(111)\n",
    "plt.plot(np.arange(len(scores)), scores, c='b', label='score')\n",
    "plt.plot(np.arange(len(avg_scores)), avg_scores, c='r', label='average')\n",
    "plt.ylabel('Score')\n",
    "plt.xlabel('Episode #')\n",
    "plt.legend()\n",
    "plt.show()"
   ]
  },
  {
   "cell_type": "markdown",
   "id": "42f1d3ab",
   "metadata": {},
   "source": [
    " You can try other models along the above example code!"
   ]
  },
  {
   "cell_type": "code",
   "execution_count": 12,
   "id": "ed19b046",
   "metadata": {},
   "outputs": [],
   "source": [
    "# close the environment\n",
    "env.close()"
   ]
  },
  {
   "cell_type": "code",
   "execution_count": null,
   "id": "55430f7a",
   "metadata": {},
   "outputs": [],
   "source": []
  }
 ],
 "metadata": {
  "kernelspec": {
   "display_name": "drlnd",
   "language": "python",
   "name": "drlnd"
  },
  "language_info": {
   "codemirror_mode": {
    "name": "ipython",
    "version": 3
   },
   "file_extension": ".py",
   "mimetype": "text/x-python",
   "name": "python",
   "nbconvert_exporter": "python",
   "pygments_lexer": "ipython3",
   "version": "3.6.13"
  },
  "varInspector": {
   "cols": {
    "lenName": 16,
    "lenType": 16,
    "lenVar": 40
   },
   "kernels_config": {
    "python": {
     "delete_cmd_postfix": "",
     "delete_cmd_prefix": "del ",
     "library": "var_list.py",
     "varRefreshCmd": "print(var_dic_list())"
    },
    "r": {
     "delete_cmd_postfix": ") ",
     "delete_cmd_prefix": "rm(",
     "library": "var_list.r",
     "varRefreshCmd": "cat(var_dic_list()) "
    }
   },
   "types_to_exclude": [
    "module",
    "function",
    "builtin_function_or_method",
    "instance",
    "_Feature"
   ],
   "window_display": false
  }
 },
 "nbformat": 4,
 "nbformat_minor": 5
}
